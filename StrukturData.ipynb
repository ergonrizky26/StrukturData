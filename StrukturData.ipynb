{
 "cells": [
  {
   "cell_type": "markdown",
   "metadata": {},
   "source": [
    "# Struktur Data "
   ]
  },
  {
   "cell_type": "markdown",
   "metadata": {},
   "source": [
    "- List\n",
    "- Tuple\n",
    "- Set\n",
    "- Dictionary"
   ]
  },
  {
   "cell_type": "markdown",
   "metadata": {},
   "source": [
    "# LIST "
   ]
  },
  {
   "cell_type": "markdown",
   "metadata": {},
   "source": [
    "- Dibatasi oleh kurung siku \"[]\"\n",
    "- Anggotanya bisa terdiri dari tipe data apapun, bahkan struktur data\n",
    "- Anggotanya bisa dilihat dari indexnya (posisinya)\n",
    "- Anggota bisa diubah (ditambahkan, dihapus, diubah)\n",
    "- Lambat pencarian dan proses"
   ]
  },
  {
   "cell_type": "code",
   "execution_count": 1,
   "metadata": {},
   "outputs": [],
   "source": [
    "items = ['apel', 'mangga', 'jeruk', 2, True]"
   ]
  },
  {
   "cell_type": "markdown",
   "metadata": {},
   "source": [
    "items -> memiliki 4 anggota\n",
    "\n",
    "index dari list dimulai dari 0\n",
    "\n",
    "index = no antrian\n",
    "\n",
    "apel -> index 0\n",
    "\n",
    "mangga -> index 1, dst\n"
   ]
  },
  {
   "cell_type": "code",
   "execution_count": 2,
   "metadata": {},
   "outputs": [
    {
     "name": "stdout",
     "output_type": "stream",
     "text": [
      "jeruk\n"
     ]
    }
   ],
   "source": [
    "# Cara akses anggota pada list\n",
    "# nama variabel list[indexAnggota]\n",
    "\n",
    "print(items[2])"
   ]
  },
  {
   "cell_type": "code",
   "execution_count": 3,
   "metadata": {},
   "outputs": [
    {
     "name": "stdout",
     "output_type": "stream",
     "text": [
      "True\n"
     ]
    }
   ],
   "source": [
    "# indexing positif dan indexing negatif\n",
    "result = items[-1]\n",
    "print(result)"
   ]
  },
  {
   "cell_type": "markdown",
   "metadata": {},
   "source": [
    "Indexing positif dlihat dari depan, dan dimulai dari index 0\n",
    "\n",
    "Indexing negatif dilihat dari belakang, dan dimulai dari index 1"
   ]
  },
  {
   "cell_type": "code",
   "execution_count": 5,
   "metadata": {},
   "outputs": [
    {
     "name": "stdout",
     "output_type": "stream",
     "text": [
      "['apel', 'mangga']\n"
     ]
    }
   ],
   "source": [
    "# Slicing\n",
    "# namaList[awal index:akhir index]\n",
    "sliced_items = items[0:2]\n",
    "print(sliced_items)"
   ]
  },
  {
   "cell_type": "code",
   "execution_count": 7,
   "metadata": {},
   "outputs": [
    {
     "name": "stdout",
     "output_type": "stream",
     "text": [
      "['apel', 'mangga', 'jeruk', 2, True, 'strawberry', 'strawberry']\n"
     ]
    }
   ],
   "source": [
    "# Menambah anggota List\n",
    "# append(), insert(), extend()\n",
    "# metode List\n",
    "items.append('strawberry')\n",
    "print(items)"
   ]
  },
  {
   "cell_type": "code",
   "execution_count": 8,
   "metadata": {},
   "outputs": [
    {
     "name": "stdout",
     "output_type": "stream",
     "text": [
      "['apel', 'mangga', 'melon', 'jeruk', 2, True, 'strawberry', 'strawberry']\n"
     ]
    }
   ],
   "source": [
    "# insert -> menambahkan pada index tertentu\n",
    "items.insert(2, \"melon\")\n",
    "print(items)"
   ]
  },
  {
   "cell_type": "code",
   "execution_count": 10,
   "metadata": {},
   "outputs": [
    {
     "name": "stdout",
     "output_type": "stream",
     "text": [
      "['apel', 'mangga', 'melon', 'jeruk', 2, True, 'strawberry', 'strawberry', 'anggur', 'semangka']\n"
     ]
    }
   ],
   "source": [
    "# extend\n",
    "list_buah = ['anggur', 'semangka']\n",
    "items.extend(list_buah)\n",
    "print(items)"
   ]
  },
  {
   "cell_type": "code",
   "execution_count": 17,
   "metadata": {},
   "outputs": [
    {
     "name": "stdout",
     "output_type": "stream",
     "text": [
      "['apel', 'mangga', 'semangka']\n"
     ]
    }
   ],
   "source": [
    "# Menambahkan list dengan list lainnya --> list baru isi anggota adalah merge dari dua list tersebut\n",
    "temp_result = items[0:2]+[items[-1]]\n",
    "print(temp_result)"
   ]
  },
  {
   "cell_type": "code",
   "execution_count": 13,
   "metadata": {},
   "outputs": [
    {
     "name": "stdout",
     "output_type": "stream",
     "text": [
      "['apel', 'mangga', 'melon', 'jeruk', True, 'strawberry', 'strawberry', 'anggur', 'semangka']\n"
     ]
    }
   ],
   "source": [
    "# Menghapus list \n",
    "# remove(), pop()\n",
    "items.remove(2)\n",
    "print(items)"
   ]
  },
  {
   "cell_type": "markdown",
   "metadata": {},
   "source": [
    "remove --> hapus, nilai\n",
    "\n",
    "pop --> extract, index"
   ]
  },
  {
   "cell_type": "code",
   "execution_count": 14,
   "metadata": {},
   "outputs": [
    {
     "name": "stdout",
     "output_type": "stream",
     "text": [
      "['apel', 'mangga', 'melon', 'jeruk', 'strawberry', 'strawberry', 'anggur', 'semangka']\n"
     ]
    }
   ],
   "source": [
    "items.pop(4)\n",
    "print(items)"
   ]
  },
  {
   "cell_type": "code",
   "execution_count": 15,
   "metadata": {},
   "outputs": [
    {
     "name": "stdout",
     "output_type": "stream",
     "text": [
      "['apel', 'mangga', 'melon', 'strawberry', 'strawberry', 'anggur', 'semangka']\n"
     ]
    }
   ],
   "source": [
    "result = items.pop(3)\n",
    "print(items)"
   ]
  },
  {
   "cell_type": "code",
   "execution_count": 16,
   "metadata": {},
   "outputs": [
    {
     "name": "stdout",
     "output_type": "stream",
     "text": [
      "jeruk\n"
     ]
    }
   ],
   "source": [
    "print(result)"
   ]
  },
  {
   "cell_type": "markdown",
   "metadata": {},
   "source": [
    "# TUPLE"
   ]
  },
  {
   "cell_type": "markdown",
   "metadata": {},
   "source": [
    "- Dibatasi oleh kurung siku \"()\"\n",
    "- Anggotanya bisa terdiri dari tipe data apapun, bahkan struktur data\n",
    "- Anggotanya bisa dilihat dari indexnya (posisinya)\n",
    "- Anggota tidak bisa diubah \n",
    "- Pencarian dan proses yang cepat relatif terhadap list\n",
    "- Penyimpanan memori yang lebih kecil dibanding list"
   ]
  },
  {
   "cell_type": "code",
   "execution_count": 20,
   "metadata": {},
   "outputs": [],
   "source": [
    "items_tuple = (\"bandung\", \"jakarta\", \"surabaya\")"
   ]
  },
  {
   "cell_type": "code",
   "execution_count": 21,
   "metadata": {},
   "outputs": [
    {
     "name": "stdout",
     "output_type": "stream",
     "text": [
      "jakarta\n"
     ]
    }
   ],
   "source": [
    "print(items_tuple[1])"
   ]
  },
  {
   "cell_type": "code",
   "execution_count": 22,
   "metadata": {},
   "outputs": [
    {
     "name": "stdout",
     "output_type": "stream",
     "text": [
      "('bandung', 'jakarta')\n"
     ]
    }
   ],
   "source": [
    "print(items_tuple[0:2])"
   ]
  },
  {
   "cell_type": "code",
   "execution_count": 24,
   "metadata": {},
   "outputs": [
    {
     "name": "stdout",
     "output_type": "stream",
     "text": [
      "[1]\n",
      "<class 'list'>\n"
     ]
    }
   ],
   "source": [
    "list_a = [1]\n",
    "\n",
    "print(list_a)\n",
    "print(type(list_a))"
   ]
  },
  {
   "cell_type": "code",
   "execution_count": 27,
   "metadata": {},
   "outputs": [
    {
     "name": "stdout",
     "output_type": "stream",
     "text": [
      "(1,)\n",
      "<class 'tuple'>\n"
     ]
    }
   ],
   "source": [
    "# Inisiasi sati anggota pada tuple harus disertakan dengan tanda koma, jika tidak maka variabel akan bernilai integer\n",
    "tuple_a = (1,)\n",
    "\n",
    "print(tuple_a)\n",
    "print(type(tuple_a))"
   ]
  },
  {
   "cell_type": "markdown",
   "metadata": {},
   "source": [
    "# SET "
   ]
  },
  {
   "cell_type": "markdown",
   "metadata": {},
   "source": [
    "- Dibatasi oleh kurung siku \"{}\"\n",
    "- Anggotanya bisa terdiri dari tipe data apapun, bahkan struktur data\n",
    "- Anggotanya tidak bisa dilihat dari indexnya (posisinya)\n",
    "- Posisi tidak penting pada Set\n",
    "- Anggota bisa diubah \n",
    "- Bersifat seperti himpunan"
   ]
  },
  {
   "cell_type": "code",
   "execution_count": 28,
   "metadata": {},
   "outputs": [],
   "source": [
    "# Inisiasi set kosong \n",
    "set_a = set()"
   ]
  },
  {
   "cell_type": "code",
   "execution_count": 29,
   "metadata": {},
   "outputs": [
    {
     "name": "stdout",
     "output_type": "stream",
     "text": [
      "set()\n",
      "<class 'set'>\n"
     ]
    }
   ],
   "source": [
    "print(set_a)\n",
    "print(type(set_a))"
   ]
  },
  {
   "cell_type": "code",
   "execution_count": 31,
   "metadata": {},
   "outputs": [],
   "source": [
    "# Penambahan anggota menggunakan add() dan update()\n",
    "set_a.add('bandung')"
   ]
  },
  {
   "cell_type": "code",
   "execution_count": 32,
   "metadata": {},
   "outputs": [
    {
     "name": "stdout",
     "output_type": "stream",
     "text": [
      "{'bandung'}\n"
     ]
    }
   ],
   "source": [
    "print(set_a)"
   ]
  },
  {
   "cell_type": "code",
   "execution_count": 33,
   "metadata": {},
   "outputs": [],
   "source": [
    "set_a.update(['padang', 'pontianak'])"
   ]
  },
  {
   "cell_type": "code",
   "execution_count": 35,
   "metadata": {},
   "outputs": [
    {
     "name": "stdout",
     "output_type": "stream",
     "text": [
      "{'pontianak', 'padang', 'bandung'}\n"
     ]
    }
   ],
   "source": [
    "print(set_a)"
   ]
  },
  {
   "cell_type": "code",
   "execution_count": 37,
   "metadata": {},
   "outputs": [],
   "source": [
    "# Menghapus set menggunakan remove()\n",
    "# pop() --> discard()"
   ]
  },
  {
   "cell_type": "markdown",
   "metadata": {},
   "source": [
    "# DICTIONARY "
   ]
  },
  {
   "cell_type": "markdown",
   "metadata": {},
   "source": [
    "- Dibatasi oleh kurung siku \"{}\"\n",
    "- Anggotanya berpasangan (keys dan value)\n",
    "- Anggotanya bisa terdiri dari tipe data apapun, bahkan struktur data\n",
    "- Anggotanya tidak bisa dilihat dari indexnya (bisa dilihat dari key nya)\n",
    "- Posisi tidak penting\n",
    "- Anggota bisa diubah "
   ]
  },
  {
   "cell_type": "code",
   "execution_count": 39,
   "metadata": {},
   "outputs": [],
   "source": [
    "dict_a = {}"
   ]
  },
  {
   "cell_type": "code",
   "execution_count": 40,
   "metadata": {},
   "outputs": [
    {
     "name": "stdout",
     "output_type": "stream",
     "text": [
      "{'Ayah': 'father'}\n"
     ]
    }
   ],
   "source": [
    "# Menambahkan dan mengedit\n",
    "dict_a['Ayah'] = 'father'\n",
    "\n",
    "print(dict_a)"
   ]
  },
  {
   "cell_type": "code",
   "execution_count": 41,
   "metadata": {},
   "outputs": [
    {
     "name": "stdout",
     "output_type": "stream",
     "text": [
      "{'Ayah': 'father', 'Ibu': 'mom'}\n"
     ]
    }
   ],
   "source": [
    "dict_a['Ibu'] = 'mom'\n",
    "\n",
    "print(dict_a)"
   ]
  },
  {
   "cell_type": "code",
   "execution_count": 42,
   "metadata": {},
   "outputs": [
    {
     "name": "stdout",
     "output_type": "stream",
     "text": [
      "{'Ayah': 'father', 'Ibu': 'mother'}\n"
     ]
    }
   ],
   "source": [
    "dict_a['Ibu'] = 'mother'\n",
    "\n",
    "print(dict_a)"
   ]
  },
  {
   "cell_type": "code",
   "execution_count": 43,
   "metadata": {},
   "outputs": [
    {
     "name": "stdout",
     "output_type": "stream",
     "text": [
      "father\n"
     ]
    }
   ],
   "source": [
    "print(dict_a['Ayah'])"
   ]
  },
  {
   "cell_type": "code",
   "execution_count": 44,
   "metadata": {},
   "outputs": [
    {
     "name": "stdout",
     "output_type": "stream",
     "text": [
      "mother\n"
     ]
    }
   ],
   "source": [
    "print(dict_a['Ibu'])"
   ]
  },
  {
   "cell_type": "code",
   "execution_count": 46,
   "metadata": {},
   "outputs": [
    {
     "name": "stdout",
     "output_type": "stream",
     "text": [
      "dict_keys(['Ayah', 'Ibu'])\n"
     ]
    }
   ],
   "source": [
    "print(dict_a.keys())"
   ]
  },
  {
   "cell_type": "code",
   "execution_count": 48,
   "metadata": {},
   "outputs": [
    {
     "name": "stdout",
     "output_type": "stream",
     "text": [
      "dict_values(['father', 'mother'])\n"
     ]
    }
   ],
   "source": [
    "print(dict_a.values())"
   ]
  },
  {
   "cell_type": "code",
   "execution_count": 50,
   "metadata": {},
   "outputs": [
    {
     "name": "stdout",
     "output_type": "stream",
     "text": [
      "{'Ayah': 'father', 'Ibu': 'Mom'}\n"
     ]
    }
   ],
   "source": [
    "temp_dict = {'Ibu':'Mom'}\n",
    "dict_a.update(temp_dict)\n",
    "print(dict_a)"
   ]
  },
  {
   "cell_type": "code",
   "execution_count": 51,
   "metadata": {},
   "outputs": [
    {
     "name": "stdout",
     "output_type": "stream",
     "text": [
      "None\n"
     ]
    }
   ],
   "source": [
    "print(dict_a.get('Son'))"
   ]
  },
  {
   "cell_type": "code",
   "execution_count": 53,
   "metadata": {},
   "outputs": [
    {
     "name": "stdout",
     "output_type": "stream",
     "text": [
      "father\n"
     ]
    }
   ],
   "source": [
    "print(dict_a.get('Ayah'))"
   ]
  },
  {
   "cell_type": "code",
   "execution_count": 54,
   "metadata": {},
   "outputs": [
    {
     "data": {
      "text/plain": [
       "{'Ayah': 'father'}"
      ]
     },
     "execution_count": 54,
     "metadata": {},
     "output_type": "execute_result"
    }
   ],
   "source": [
    "dict_a.pop('Ibu')\n",
    "dict_a"
   ]
  }
 ],
 "metadata": {
  "kernelspec": {
   "display_name": "Python 3",
   "language": "python",
   "name": "python3"
  },
  "language_info": {
   "codemirror_mode": {
    "name": "ipython",
    "version": 3
   },
   "file_extension": ".py",
   "mimetype": "text/x-python",
   "name": "python",
   "nbconvert_exporter": "python",
   "pygments_lexer": "ipython3",
   "version": "3.6.5"
  }
 },
 "nbformat": 4,
 "nbformat_minor": 2
}
